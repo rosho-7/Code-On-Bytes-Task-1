{
  "nbformat": 4,
  "nbformat_minor": 0,
  "metadata": {
    "colab": {
      "provenance": []
    },
    "kernelspec": {
      "name": "python3",
      "display_name": "Python 3"
    },
    "language_info": {
      "name": "python"
    }
  },
  "cells": [
    {
      "cell_type": "code",
      "execution_count": 3,
      "metadata": {
        "colab": {
          "base_uri": "https://localhost:8080/"
        },
        "id": "wMs6xBnrgrQx",
        "outputId": "c2554ec1-ceac-4f84-9d18-87a64ac14306"
      },
      "outputs": [
        {
          "output_type": "stream",
          "name": "stdout",
          "text": [
            "Welcome to the Random Quiz!\n",
            "What is the largest ocean in the world?\n",
            "Your answer: jjhh\n",
            "Wrong! The correct answer is: Pacific Ocean\n",
            "\n",
            "What is the national animal of China?\n",
            "Your answer: dddgh\n",
            "Wrong! The correct answer is: Giant panda\n",
            "\n",
            "What is the chemical symbol for water?\n",
            "Your answer: gfffgh\n",
            "Wrong! The correct answer is: H2O\n",
            "\n",
            "What is the largest desert in the world?\n",
            "Your answer: Sahara desert\n",
            "Correct!\n",
            "\n",
            "What is the tallest mountain in the world?\n",
            "Your answer: Mount Everest\n",
            "Correct!\n",
            "\n",
            "Quiz completed! Your score is: 2/5\n"
          ]
        }
      ],
      "source": [
        "import random\n",
        "questions30 = [\n",
        "    {\"question\": \"What is the capital of France?\", \"answer\": \"Paris\"},\n",
        "    {\"question\": \"How many continents are there?\", \"answer\": \"7\"},\n",
        "    {\"question\": \"Which planet is known as the Red Planet?\", \"answer\": \"Mars\"},\n",
        "    {\"question\": \"What is the largest mammal in the world?\", \"answer\": \"Blue whale\"},\n",
        "    {\"question\": \"In which year did Christopher Columbus reach the Americas?\", \"answer\": \"1492\"},\n",
        "    {\"question\": \"What is the chemical symbol for gold?\", \"answer\": \"Au\"},\n",
        "    {\"question\": \"Who wrote the play 'Romeo and Juliet'?\", \"answer\": \"William Shakespeare\"},\n",
        "    {\"question\": \"What is the largest organ in the human body?\", \"answer\": \"Skin\"},\n",
        "    {\"question\": \"What is the tallest mountain in the world?\", \"answer\": \"Mount Everest\"},\n",
        "    {\"question\": \"What gas do plants absorb from the atmosphere?\", \"answer\": \"Carbon dioxide\"},\n",
        "    {\"question\": \"Which gas do humans breathe out when they exhale?\", \"answer\": \"Carbon dioxide\"},\n",
        "    {\"question\": \"Who painted the Mona Lisa?\", \"answer\": \"Leonardo da Vinci\"},\n",
        "    {\"question\": \"What is the currency of Japan?\", \"answer\": \"Japanese yen\"},\n",
        "    {\"question\": \"What is the smallest planet in our solar system?\", \"answer\": \"Mercury\"},\n",
        "    {\"question\": \"What is the largest planet in our solar system?\", \"answer\": \"Jupiter\"},\n",
        "    {\"question\": \"What is the chemical symbol for oxygen?\", \"answer\": \"O\"},\n",
        "    {\"question\": \"What is the national flower of Japan?\", \"answer\": \"Cherry blossom\"},\n",
        "    {\"question\": \"Which gas makes up the majority of Earth's atmosphere?\", \"answer\": \"Nitrogen\"},\n",
        "    {\"question\": \"What is the largest ocean in the world?\", \"answer\": \"Pacific Ocean\"},\n",
        "    {\"question\": \"Who is the author of 'To Kill a Mockingbird'?\", \"answer\": \"Harper Lee\"},\n",
        "    {\"question\": \"Which country is known as the Land of the Rising Sun?\", \"answer\": \"Japan\"},\n",
        "    {\"question\": \"What is the chemical symbol for water?\", \"answer\": \"H2O\"},\n",
        "    {\"question\": \"What is the capital of Australia?\", \"answer\": \"Canberra\"},\n",
        "    {\"question\": \"Who was the first woman to fly solo across the Atlantic Ocean?\", \"answer\": \"Amelia Earhart\"},\n",
        "    {\"question\": \"What is the largest desert in the world?\", \"answer\": \"Sahara Desert\"},\n",
        "    {\"question\": \"What is the smallest breed of dog?\", \"answer\": \"Chihuahua\"},\n",
        "    {\"question\": \"Who was the first person to step on the moon?\", \"answer\": \"Neil Armstrong\"},\n",
        "    {\"question\": \"What is the tallest tree in the world?\", \"answer\": \"Hyperion\"},\n",
        "    {\"question\": \"Which gas do plants release during photosynthesis?\", \"answer\": \"Oxygen\"},\n",
        "    {\"question\": \"What is the national animal of China?\", \"answer\": \"Giant panda\"},\n",
        "]\n",
        "\n",
        "def select():\n",
        "    return random.choice(questions30)\n",
        "def run():\n",
        "    score = 0\n",
        "    for _ in range(5):\n",
        "        q = select()\n",
        "        print(q[\"question\"])\n",
        "        user_answer = input(\"Your answer: \").strip()\n",
        "        if user_answer.lower() == q[\"answer\"].lower():\n",
        "            print(\"Correct!\\n\")\n",
        "            score += 1\n",
        "        else:\n",
        "            print(f\"Wrong! The correct answer is: {q['answer']}\\n\")\n",
        "\n",
        "    print(f\"Quiz completed! Your score is: {score}/5\")\n",
        "\n",
        "if __name__ == \"__main__\":\n",
        "    print(\"Welcome to the Random Quiz!\")\n",
        "    run()\n"
      ]
    }
  ]
}